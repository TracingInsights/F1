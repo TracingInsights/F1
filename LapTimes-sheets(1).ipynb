{
 "cells": [
  {
   "cell_type": "code",
   "execution_count": 1,
   "id": "345b7a14-58c7-4496-b5bc-eb7aacddff9c",
   "metadata": {
    "collapsed": true,
    "jupyter": {
     "outputs_hidden": true
    },
    "tags": []
   },
   "outputs": [
    {
     "name": "stdout",
     "output_type": "stream",
     "text": [
      "Requirement already satisfied: fastf1 in ./.conda/envs/default/lib/python3.9/site-packages (2.3.0)\n",
      "Requirement already satisfied: requests-cache>=0.8.0 in ./.conda/envs/default/lib/python3.9/site-packages (from fastf1) (0.9.6)\n",
      "Requirement already satisfied: matplotlib>=3.3.3 in ./.conda/envs/default/lib/python3.9/site-packages (from fastf1) (3.6.1)\n",
      "Requirement already satisfied: numpy>=1.17.3 in ./.conda/envs/default/lib/python3.9/site-packages (from fastf1) (1.23.4)\n",
      "Requirement already satisfied: timple>=0.1.2 in ./.conda/envs/default/lib/python3.9/site-packages (from fastf1) (0.1.5)\n",
      "Requirement already satisfied: signalr-client-aio in ./.conda/envs/default/lib/python3.9/site-packages (from fastf1) (0.0.1.6.2)\n",
      "Requirement already satisfied: scipy in ./.conda/envs/default/lib/python3.9/site-packages (from fastf1) (1.9.2)\n",
      "Requirement already satisfied: pandas>=1.1.0 in ./.conda/envs/default/lib/python3.9/site-packages (from fastf1) (1.5.0)\n",
      "Requirement already satisfied: requests in ./.conda/envs/default/lib/python3.9/site-packages (from fastf1) (2.28.1)\n",
      "Requirement already satisfied: thefuzz in ./.conda/envs/default/lib/python3.9/site-packages (from fastf1) (0.19.0)\n",
      "Requirement already satisfied: pyparsing>=2.2.1 in ./.conda/envs/default/lib/python3.9/site-packages (from matplotlib>=3.3.3->fastf1) (3.0.9)\n",
      "Requirement already satisfied: pillow>=6.2.0 in ./.conda/envs/default/lib/python3.9/site-packages (from matplotlib>=3.3.3->fastf1) (9.2.0)\n",
      "Requirement already satisfied: cycler>=0.10 in ./.conda/envs/default/lib/python3.9/site-packages (from matplotlib>=3.3.3->fastf1) (0.11.0)\n",
      "Requirement already satisfied: contourpy>=1.0.1 in ./.conda/envs/default/lib/python3.9/site-packages (from matplotlib>=3.3.3->fastf1) (1.0.5)\n",
      "Requirement already satisfied: fonttools>=4.22.0 in ./.conda/envs/default/lib/python3.9/site-packages (from matplotlib>=3.3.3->fastf1) (4.37.4)\n",
      "Requirement already satisfied: packaging>=20.0 in ./.conda/envs/default/lib/python3.9/site-packages (from matplotlib>=3.3.3->fastf1) (21.3)\n",
      "Requirement already satisfied: python-dateutil>=2.7 in ./.conda/envs/default/lib/python3.9/site-packages (from matplotlib>=3.3.3->fastf1) (2.8.2)\n",
      "Requirement already satisfied: kiwisolver>=1.0.1 in ./.conda/envs/default/lib/python3.9/site-packages (from matplotlib>=3.3.3->fastf1) (1.4.4)\n",
      "Requirement already satisfied: pytz>=2020.1 in ./.conda/envs/default/lib/python3.9/site-packages (from pandas>=1.1.0->fastf1) (2022.4)\n",
      "Requirement already satisfied: six>=1.5 in ./.conda/envs/default/lib/python3.9/site-packages (from python-dateutil>=2.7->matplotlib>=3.3.3->fastf1) (1.16.0)\n",
      "Requirement already satisfied: cattrs>=1.8 in ./.conda/envs/default/lib/python3.9/site-packages (from requests-cache>=0.8.0->fastf1) (22.2.0)\n",
      "Requirement already satisfied: urllib3>=1.25.5 in ./.conda/envs/default/lib/python3.9/site-packages (from requests-cache>=0.8.0->fastf1) (1.26.12)\n",
      "Requirement already satisfied: attrs>=21.2 in ./.conda/envs/default/lib/python3.9/site-packages (from requests-cache>=0.8.0->fastf1) (21.4.0)\n",
      "Requirement already satisfied: url-normalize>=1.4 in ./.conda/envs/default/lib/python3.9/site-packages (from requests-cache>=0.8.0->fastf1) (1.4.3)\n",
      "Requirement already satisfied: appdirs>=1.4.4 in ./.conda/envs/default/lib/python3.9/site-packages (from requests-cache>=0.8.0->fastf1) (1.4.4)\n",
      "Requirement already satisfied: exceptiongroup in ./.conda/envs/default/lib/python3.9/site-packages (from cattrs>=1.8->requests-cache>=0.8.0->fastf1) (1.0.0rc9)\n",
      "Requirement already satisfied: charset-normalizer<3,>=2 in ./.conda/envs/default/lib/python3.9/site-packages (from requests->fastf1) (2.1.1)\n",
      "Requirement already satisfied: idna<4,>=2.5 in ./.conda/envs/default/lib/python3.9/site-packages (from requests->fastf1) (3.4)\n",
      "Requirement already satisfied: certifi>=2017.4.17 in ./.conda/envs/default/lib/python3.9/site-packages (from requests->fastf1) (2022.9.24)\n",
      "Requirement already satisfied: websockets>=4.0.1 in ./.conda/envs/default/lib/python3.9/site-packages (from signalr-client-aio->fastf1) (10.3)\n",
      "Note: you may need to restart the kernel to use updated packages.\n"
     ]
    }
   ],
   "source": [
    "pip install fastf1"
   ]
  },
  {
   "cell_type": "code",
   "execution_count": 2,
   "id": "0bc91f8a-257d-4966-938b-7ed1f3275cba",
   "metadata": {},
   "outputs": [],
   "source": [
    "YEAR = 2022\n",
    "RACE_NUMBER = 20\n",
    "SESSION_ID = 'FP1'"
   ]
  },
  {
   "cell_type": "code",
   "execution_count": 7,
   "id": "8eab5605-46a0-4d85-91dd-42f3d995c1b4",
   "metadata": {
    "collapsed": true,
    "jupyter": {
     "outputs_hidden": true
    },
    "tags": []
   },
   "outputs": [
    {
     "name": "stderr",
     "output_type": "stream",
     "text": [
      "/home/studio-lab-user/.conda/envs/default/lib/python3.9/site-packages/fastf1/core.py:1220: FutureWarning: `Session.load_laps` is deprecated and will beremoved in a future version.\n",
      "Use `Session.load` instead.\n",
      "  warnings.warn(\"`Session.load_laps` is deprecated and will be\"\n",
      "core           INFO \tLoading data for Mexico City Grand Prix - Practice 1 [v2.3.0]\n",
      "api            INFO \tUsing cached data for driver_info\n",
      "core        WARNING \tFailed to load data from Ergast API! (This is expected for recent sessions)\n",
      "api            INFO \tUsing cached data for timing_data\n",
      "api            INFO \tUsing cached data for timing_app_data\n",
      "core           INFO \tProcessing timing data...\n",
      "api            INFO \tUsing cached data for session_status_data\n",
      "api            INFO \tUsing cached data for track_status_data\n",
      "/home/studio-lab-user/.conda/envs/default/lib/python3.9/site-packages/fastf1/core.py:1492: FutureWarning: iteritems is deprecated and will be removed in a future version. Use .items instead.\n",
      "  for key, value in row.iteritems():\n",
      "/home/studio-lab-user/.conda/envs/default/lib/python3.9/site-packages/fastf1/core.py:1492: FutureWarning: iteritems is deprecated and will be removed in a future version. Use .items instead.\n",
      "  for key, value in row.iteritems():\n",
      "/home/studio-lab-user/.conda/envs/default/lib/python3.9/site-packages/fastf1/core.py:1415: FutureWarning: In a future version, object-dtype columns with all-bool values will not be included in reductions with bool_only=True. Explicitly cast to bool dtype instead.\n",
      "  df = pd.concat([df, result], sort=False)\n",
      "/home/studio-lab-user/.conda/envs/default/lib/python3.9/site-packages/fastf1/core.py:1492: FutureWarning: iteritems is deprecated and will be removed in a future version. Use .items instead.\n",
      "  for key, value in row.iteritems():\n",
      "/home/studio-lab-user/.conda/envs/default/lib/python3.9/site-packages/fastf1/core.py:1415: FutureWarning: In a future version, object-dtype columns with all-bool values will not be included in reductions with bool_only=True. Explicitly cast to bool dtype instead.\n",
      "  df = pd.concat([df, result], sort=False)\n",
      "/home/studio-lab-user/.conda/envs/default/lib/python3.9/site-packages/fastf1/core.py:1492: FutureWarning: iteritems is deprecated and will be removed in a future version. Use .items instead.\n",
      "  for key, value in row.iteritems():\n",
      "/home/studio-lab-user/.conda/envs/default/lib/python3.9/site-packages/fastf1/core.py:1415: FutureWarning: In a future version, object-dtype columns with all-bool values will not be included in reductions with bool_only=True. Explicitly cast to bool dtype instead.\n",
      "  df = pd.concat([df, result], sort=False)\n",
      "/home/studio-lab-user/.conda/envs/default/lib/python3.9/site-packages/fastf1/core.py:1415: FutureWarning: In a future version, object-dtype columns with all-bool values will not be included in reductions with bool_only=True. Explicitly cast to bool dtype instead.\n",
      "  df = pd.concat([df, result], sort=False)\n",
      "/home/studio-lab-user/.conda/envs/default/lib/python3.9/site-packages/fastf1/core.py:1492: FutureWarning: iteritems is deprecated and will be removed in a future version. Use .items instead.\n",
      "  for key, value in row.iteritems():\n",
      "/home/studio-lab-user/.conda/envs/default/lib/python3.9/site-packages/fastf1/core.py:1415: FutureWarning: In a future version, object-dtype columns with all-bool values will not be included in reductions with bool_only=True. Explicitly cast to bool dtype instead.\n",
      "  df = pd.concat([df, result], sort=False)\n",
      "/home/studio-lab-user/.conda/envs/default/lib/python3.9/site-packages/fastf1/core.py:1492: FutureWarning: iteritems is deprecated and will be removed in a future version. Use .items instead.\n",
      "  for key, value in row.iteritems():\n",
      "/home/studio-lab-user/.conda/envs/default/lib/python3.9/site-packages/fastf1/core.py:1415: FutureWarning: In a future version, object-dtype columns with all-bool values will not be included in reductions with bool_only=True. Explicitly cast to bool dtype instead.\n",
      "  df = pd.concat([df, result], sort=False)\n",
      "/home/studio-lab-user/.conda/envs/default/lib/python3.9/site-packages/fastf1/core.py:1492: FutureWarning: iteritems is deprecated and will be removed in a future version. Use .items instead.\n",
      "  for key, value in row.iteritems():\n",
      "/home/studio-lab-user/.conda/envs/default/lib/python3.9/site-packages/fastf1/core.py:1415: FutureWarning: In a future version, object-dtype columns with all-bool values will not be included in reductions with bool_only=True. Explicitly cast to bool dtype instead.\n",
      "  df = pd.concat([df, result], sort=False)\n",
      "/home/studio-lab-user/.conda/envs/default/lib/python3.9/site-packages/fastf1/core.py:1492: FutureWarning: iteritems is deprecated and will be removed in a future version. Use .items instead.\n",
      "  for key, value in row.iteritems():\n",
      "/home/studio-lab-user/.conda/envs/default/lib/python3.9/site-packages/fastf1/core.py:1411: FutureWarning: The frame.append method is deprecated and will be removed from pandas in a future version. Use pandas.concat instead.\n",
      "  result = result.append(new_last).reset_index(drop=True)\n",
      "/home/studio-lab-user/.conda/envs/default/lib/python3.9/site-packages/fastf1/core.py:1415: FutureWarning: In a future version, object-dtype columns with all-bool values will not be included in reductions with bool_only=True. Explicitly cast to bool dtype instead.\n",
      "  df = pd.concat([df, result], sort=False)\n",
      "/home/studio-lab-user/.conda/envs/default/lib/python3.9/site-packages/fastf1/core.py:1492: FutureWarning: iteritems is deprecated and will be removed in a future version. Use .items instead.\n",
      "  for key, value in row.iteritems():\n",
      "/home/studio-lab-user/.conda/envs/default/lib/python3.9/site-packages/fastf1/core.py:1415: FutureWarning: In a future version, object-dtype columns with all-bool values will not be included in reductions with bool_only=True. Explicitly cast to bool dtype instead.\n",
      "  df = pd.concat([df, result], sort=False)\n",
      "/home/studio-lab-user/.conda/envs/default/lib/python3.9/site-packages/fastf1/core.py:1492: FutureWarning: iteritems is deprecated and will be removed in a future version. Use .items instead.\n",
      "  for key, value in row.iteritems():\n",
      "/home/studio-lab-user/.conda/envs/default/lib/python3.9/site-packages/fastf1/core.py:1411: FutureWarning: The frame.append method is deprecated and will be removed from pandas in a future version. Use pandas.concat instead.\n",
      "  result = result.append(new_last).reset_index(drop=True)\n",
      "/home/studio-lab-user/.conda/envs/default/lib/python3.9/site-packages/fastf1/core.py:1415: FutureWarning: In a future version, object-dtype columns with all-bool values will not be included in reductions with bool_only=True. Explicitly cast to bool dtype instead.\n",
      "  df = pd.concat([df, result], sort=False)\n",
      "/home/studio-lab-user/.conda/envs/default/lib/python3.9/site-packages/fastf1/core.py:1492: FutureWarning: iteritems is deprecated and will be removed in a future version. Use .items instead.\n",
      "  for key, value in row.iteritems():\n",
      "/home/studio-lab-user/.conda/envs/default/lib/python3.9/site-packages/fastf1/core.py:1415: FutureWarning: In a future version, object-dtype columns with all-bool values will not be included in reductions with bool_only=True. Explicitly cast to bool dtype instead.\n",
      "  df = pd.concat([df, result], sort=False)\n",
      "/home/studio-lab-user/.conda/envs/default/lib/python3.9/site-packages/fastf1/core.py:1492: FutureWarning: iteritems is deprecated and will be removed in a future version. Use .items instead.\n",
      "  for key, value in row.iteritems():\n",
      "/home/studio-lab-user/.conda/envs/default/lib/python3.9/site-packages/fastf1/core.py:1415: FutureWarning: In a future version, object-dtype columns with all-bool values will not be included in reductions with bool_only=True. Explicitly cast to bool dtype instead.\n",
      "  df = pd.concat([df, result], sort=False)\n",
      "/home/studio-lab-user/.conda/envs/default/lib/python3.9/site-packages/fastf1/core.py:1492: FutureWarning: iteritems is deprecated and will be removed in a future version. Use .items instead.\n",
      "  for key, value in row.iteritems():\n",
      "/home/studio-lab-user/.conda/envs/default/lib/python3.9/site-packages/fastf1/core.py:1415: FutureWarning: In a future version, object-dtype columns with all-bool values will not be included in reductions with bool_only=True. Explicitly cast to bool dtype instead.\n",
      "  df = pd.concat([df, result], sort=False)\n",
      "/home/studio-lab-user/.conda/envs/default/lib/python3.9/site-packages/fastf1/core.py:1492: FutureWarning: iteritems is deprecated and will be removed in a future version. Use .items instead.\n",
      "  for key, value in row.iteritems():\n",
      "/home/studio-lab-user/.conda/envs/default/lib/python3.9/site-packages/fastf1/core.py:1415: FutureWarning: In a future version, object-dtype columns with all-bool values will not be included in reductions with bool_only=True. Explicitly cast to bool dtype instead.\n",
      "  df = pd.concat([df, result], sort=False)\n",
      "/home/studio-lab-user/.conda/envs/default/lib/python3.9/site-packages/fastf1/core.py:1492: FutureWarning: iteritems is deprecated and will be removed in a future version. Use .items instead.\n",
      "  for key, value in row.iteritems():\n",
      "/home/studio-lab-user/.conda/envs/default/lib/python3.9/site-packages/fastf1/core.py:1411: FutureWarning: The frame.append method is deprecated and will be removed from pandas in a future version. Use pandas.concat instead.\n",
      "  result = result.append(new_last).reset_index(drop=True)\n",
      "/home/studio-lab-user/.conda/envs/default/lib/python3.9/site-packages/fastf1/core.py:1415: FutureWarning: In a future version, object-dtype columns with all-bool values will not be included in reductions with bool_only=True. Explicitly cast to bool dtype instead.\n",
      "  df = pd.concat([df, result], sort=False)\n",
      "/home/studio-lab-user/.conda/envs/default/lib/python3.9/site-packages/fastf1/core.py:1492: FutureWarning: iteritems is deprecated and will be removed in a future version. Use .items instead.\n",
      "  for key, value in row.iteritems():\n",
      "/home/studio-lab-user/.conda/envs/default/lib/python3.9/site-packages/fastf1/core.py:1415: FutureWarning: In a future version, object-dtype columns with all-bool values will not be included in reductions with bool_only=True. Explicitly cast to bool dtype instead.\n",
      "  df = pd.concat([df, result], sort=False)\n",
      "/home/studio-lab-user/.conda/envs/default/lib/python3.9/site-packages/fastf1/core.py:1492: FutureWarning: iteritems is deprecated and will be removed in a future version. Use .items instead.\n",
      "  for key, value in row.iteritems():\n",
      "/home/studio-lab-user/.conda/envs/default/lib/python3.9/site-packages/fastf1/core.py:1415: FutureWarning: In a future version, object-dtype columns with all-bool values will not be included in reductions with bool_only=True. Explicitly cast to bool dtype instead.\n",
      "  df = pd.concat([df, result], sort=False)\n",
      "/home/studio-lab-user/.conda/envs/default/lib/python3.9/site-packages/fastf1/core.py:1492: FutureWarning: iteritems is deprecated and will be removed in a future version. Use .items instead.\n",
      "  for key, value in row.iteritems():\n",
      "/home/studio-lab-user/.conda/envs/default/lib/python3.9/site-packages/fastf1/core.py:1415: FutureWarning: In a future version, object-dtype columns with all-bool values will not be included in reductions with bool_only=True. Explicitly cast to bool dtype instead.\n",
      "  df = pd.concat([df, result], sort=False)\n",
      "/home/studio-lab-user/.conda/envs/default/lib/python3.9/site-packages/fastf1/core.py:1492: FutureWarning: iteritems is deprecated and will be removed in a future version. Use .items instead.\n",
      "  for key, value in row.iteritems():\n",
      "/home/studio-lab-user/.conda/envs/default/lib/python3.9/site-packages/fastf1/core.py:1415: FutureWarning: In a future version, object-dtype columns with all-bool values will not be included in reductions with bool_only=True. Explicitly cast to bool dtype instead.\n",
      "  df = pd.concat([df, result], sort=False)\n",
      "api            INFO \tUsing cached data for car_data\n",
      "api            INFO \tUsing cached data for position_data\n",
      "api            INFO \tUsing cached data for weather_data\n",
      "api            INFO \tUsing cached data for race_control_messages\n",
      "core           INFO \tFinished loading data for 20 drivers: ['1', '55', '51', '47', '45', '44', '40', '24', '19', '18', '16', '14', '11', '10', '6', '5', '4', '3', '77', '82']\n"
     ]
    }
   ],
   "source": [
    "import fastf1\n",
    "import pandas as pd\n",
    "\n",
    "fastf1.Cache.enable_cache(\"Cache\")\n",
    "\n",
    "# Load the session\n",
    "session = fastf1.get_session(YEAR, RACE_NUMBER, SESSION_ID)\n",
    "\n",
    "# Load all laps with telemetry\n",
    "laps = session.load_laps(with_telemetry=True)\n",
    "\n",
    "laps['Sector1Time'] = laps['Sector1Time'].dt.total_seconds()\n",
    "laps['Sector2Time'] = laps['Sector2Time'].dt.total_seconds()\n",
    "laps['Sector3Time'] = laps['Sector3Time'].dt.total_seconds()\n",
    "\n",
    "laps['laptime_s'] = laps.Sector1Time + laps.Sector2Time + laps.Sector3Time\n",
    "\n",
    "laps.to_csv(f'{YEAR}-{RACE_NUMBER}-{SESSION_ID}.csv')"
   ]
  },
  {
   "cell_type": "code",
   "execution_count": null,
   "id": "7dab9a32-933d-4ad5-8302-c19a887b74a9",
   "metadata": {},
   "outputs": [],
   "source": []
  }
 ],
 "metadata": {
  "kernelspec": {
   "display_name": "default:Python",
   "language": "python",
   "name": "conda-env-default-py"
  },
  "language_info": {
   "codemirror_mode": {
    "name": "ipython",
    "version": 3
   },
   "file_extension": ".py",
   "mimetype": "text/x-python",
   "name": "python",
   "nbconvert_exporter": "python",
   "pygments_lexer": "ipython3",
   "version": "3.9.13"
  }
 },
 "nbformat": 4,
 "nbformat_minor": 5
}
